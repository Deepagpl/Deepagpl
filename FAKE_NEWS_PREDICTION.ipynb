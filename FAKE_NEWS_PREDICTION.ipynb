{
  "nbformat": 4,
  "nbformat_minor": 0,
  "metadata": {
    "colab": {
      "provenance": []
    },
    "kernelspec": {
      "name": "python3",
      "display_name": "Python 3"
    },
    "language_info": {
      "name": "python"
    }
  },
  "cells": [
    {
      "cell_type": "code",
      "execution_count": null,
      "metadata": {
        "id": "oZdHT7___C4q"
      },
      "outputs": [],
      "source": []
    },
    {
      "cell_type": "markdown",
      "source": [
        "About the Dataset:\n",
        "\n",
        "1.id: unique id for a news article\n",
        "2.title: the title of a news article\n",
        "3\n",
        "author: author of the news article\n",
        "4.text: the text of the article; could be incomplete\n",
        "5.label: a label that marks whether the news article is real or fake:\n",
        "\n",
        " 1: Fake news\n",
        " 0: real News"
      ],
      "metadata": {
        "id": "co5Nff5m_Mis"
      }
    },
    {
      "cell_type": "markdown",
      "source": [
        "Importing the Dependencies"
      ],
      "metadata": {
        "id": "wgAPLGwj_ZYV"
      }
    },
    {
      "cell_type": "code",
      "source": [
        "import numpy as np\n",
        "import pandas as pd\n",
        "import re\n",
        "from nltk.corpus import stopwords\n",
        "from nltk.stem.porter import PorterStemmer\n",
        "from sklearn.feature_extraction.text import TfidfVectorizer\n",
        "from sklearn.model_selection import train_test_split\n",
        "from sklearn.linear_model import LogisticRegression\n",
        "from sklearn.metrics import accuracy_score"
      ],
      "metadata": {
        "id": "T0Q5JJg8_dm6"
      },
      "execution_count": 1,
      "outputs": []
    },
    {
      "cell_type": "code",
      "source": [
        "import nltk\n",
        "nltk.download('stopwords')"
      ],
      "metadata": {
        "colab": {
          "base_uri": "https://localhost:8080/"
        },
        "id": "5vm_0iQ8_6u1",
        "outputId": "6ff356a7-5f0d-43c0-8b59-f3600db8509d"
      },
      "execution_count": 2,
      "outputs": [
        {
          "output_type": "stream",
          "name": "stderr",
          "text": [
            "[nltk_data] Downloading package stopwords to /root/nltk_data...\n",
            "[nltk_data]   Unzipping corpora/stopwords.zip.\n"
          ]
        },
        {
          "output_type": "execute_result",
          "data": {
            "text/plain": [
              "True"
            ]
          },
          "metadata": {},
          "execution_count": 2
        }
      ]
    },
    {
      "cell_type": "code",
      "source": [
        "# printing the stopwords in English\n",
        "print(stopwords.words('english'))"
      ],
      "metadata": {
        "colab": {
          "base_uri": "https://localhost:8080/"
        },
        "id": "ESI6VyAC_-xM",
        "outputId": "6f1902c4-d391-4e2f-eb2a-fa41bb905278"
      },
      "execution_count": 3,
      "outputs": [
        {
          "output_type": "stream",
          "name": "stdout",
          "text": [
            "['i', 'me', 'my', 'myself', 'we', 'our', 'ours', 'ourselves', 'you', \"you're\", \"you've\", \"you'll\", \"you'd\", 'your', 'yours', 'yourself', 'yourselves', 'he', 'him', 'his', 'himself', 'she', \"she's\", 'her', 'hers', 'herself', 'it', \"it's\", 'its', 'itself', 'they', 'them', 'their', 'theirs', 'themselves', 'what', 'which', 'who', 'whom', 'this', 'that', \"that'll\", 'these', 'those', 'am', 'is', 'are', 'was', 'were', 'be', 'been', 'being', 'have', 'has', 'had', 'having', 'do', 'does', 'did', 'doing', 'a', 'an', 'the', 'and', 'but', 'if', 'or', 'because', 'as', 'until', 'while', 'of', 'at', 'by', 'for', 'with', 'about', 'against', 'between', 'into', 'through', 'during', 'before', 'after', 'above', 'below', 'to', 'from', 'up', 'down', 'in', 'out', 'on', 'off', 'over', 'under', 'again', 'further', 'then', 'once', 'here', 'there', 'when', 'where', 'why', 'how', 'all', 'any', 'both', 'each', 'few', 'more', 'most', 'other', 'some', 'such', 'no', 'nor', 'not', 'only', 'own', 'same', 'so', 'than', 'too', 'very', 's', 't', 'can', 'will', 'just', 'don', \"don't\", 'should', \"should've\", 'now', 'd', 'll', 'm', 'o', 're', 've', 'y', 'ain', 'aren', \"aren't\", 'couldn', \"couldn't\", 'didn', \"didn't\", 'doesn', \"doesn't\", 'hadn', \"hadn't\", 'hasn', \"hasn't\", 'haven', \"haven't\", 'isn', \"isn't\", 'ma', 'mightn', \"mightn't\", 'mustn', \"mustn't\", 'needn', \"needn't\", 'shan', \"shan't\", 'shouldn', \"shouldn't\", 'wasn', \"wasn't\", 'weren', \"weren't\", 'won', \"won't\", 'wouldn', \"wouldn't\"]\n"
          ]
        }
      ]
    },
    {
      "cell_type": "markdown",
      "source": [
        "Data Pre-processing"
      ],
      "metadata": {
        "id": "D9ua2LDTAAuN"
      }
    },
    {
      "source": [
        "# loading the dataset to a pandas DataFrame\n",
        "news_dataset = pd.read_csv('/content/train.csv', encoding='latin-1', on_bad_lines='skip') # or encoding='ISO-8859-1'\n",
        "# or\n",
        "# news_dataset = pd.read_csv('/content/train.csv', encoding='latin-1', error_bad_lines=False) # or encoding='ISO-8859-1'"
      ],
      "cell_type": "code",
      "metadata": {
        "id": "yXtIrFIpCtm6"
      },
      "execution_count": 8,
      "outputs": []
    },
    {
      "cell_type": "code",
      "source": [
        "news_dataset.shape"
      ],
      "metadata": {
        "colab": {
          "base_uri": "https://localhost:8080/"
        },
        "id": "SK-RjRdNC9vy",
        "outputId": "fbac5a8a-917e-495e-c22e-aad387316c9e"
      },
      "execution_count": 9,
      "outputs": [
        {
          "output_type": "execute_result",
          "data": {
            "text/plain": [
              "(30230, 5)"
            ]
          },
          "metadata": {},
          "execution_count": 9
        }
      ]
    },
    {
      "cell_type": "code",
      "source": [
        "# print the first 5 rows of the dataframe\n",
        "news_dataset.head()"
      ],
      "metadata": {
        "colab": {
          "base_uri": "https://localhost:8080/",
          "height": 327
        },
        "id": "2HIbL2RBDEPt",
        "outputId": "e4cebb6e-9365-41f8-a4df-a0868d561298"
      },
      "execution_count": 10,
      "outputs": [
        {
          "output_type": "execute_result",
          "data": {
            "text/plain": [
              "  id                                              title              author  \\\n",
              "0  0  House Dem Aide: We Didnât Even See Comeyâs...       Darrell Lucus   \n",
              "1  1  FLYNN: Hillary Clinton, Big Woman on Campus - ...     Daniel J. Flynn   \n",
              "2  2                  Why the Truth Might Get You Fired  Consortiumnews.com   \n",
              "3  3  15 Civilians Killed In Single US Airstrike Hav...     Jessica Purkiss   \n",
              "4  4  Iranian woman jailed for fictional unpublished...      Howard Portnoy   \n",
              "\n",
              "                                                text label  \n",
              "0  House Dem Aide: We Didnât Even See Comeyâs...     1  \n",
              "1  Ever get the feeling your life circles the rou...     0  \n",
              "2  Why the Truth Might Get You Fired October 29, ...     1  \n",
              "3  Videos 15 Civilians Killed In Single US Airstr...     1  \n",
              "4  Print \\nAn Iranian woman has been sentenced to...     1  "
            ],
            "text/html": [
              "\n",
              "  <div id=\"df-9904d60d-dbac-46a9-9b4f-33b70b50bf6b\" class=\"colab-df-container\">\n",
              "    <div>\n",
              "<style scoped>\n",
              "    .dataframe tbody tr th:only-of-type {\n",
              "        vertical-align: middle;\n",
              "    }\n",
              "\n",
              "    .dataframe tbody tr th {\n",
              "        vertical-align: top;\n",
              "    }\n",
              "\n",
              "    .dataframe thead th {\n",
              "        text-align: right;\n",
              "    }\n",
              "</style>\n",
              "<table border=\"1\" class=\"dataframe\">\n",
              "  <thead>\n",
              "    <tr style=\"text-align: right;\">\n",
              "      <th></th>\n",
              "      <th>id</th>\n",
              "      <th>title</th>\n",
              "      <th>author</th>\n",
              "      <th>text</th>\n",
              "      <th>label</th>\n",
              "    </tr>\n",
              "  </thead>\n",
              "  <tbody>\n",
              "    <tr>\n",
              "      <th>0</th>\n",
              "      <td>0</td>\n",
              "      <td>House Dem Aide: We Didnât Even See Comeyâs...</td>\n",
              "      <td>Darrell Lucus</td>\n",
              "      <td>House Dem Aide: We Didnât Even See Comeyâs...</td>\n",
              "      <td>1</td>\n",
              "    </tr>\n",
              "    <tr>\n",
              "      <th>1</th>\n",
              "      <td>1</td>\n",
              "      <td>FLYNN: Hillary Clinton, Big Woman on Campus - ...</td>\n",
              "      <td>Daniel J. Flynn</td>\n",
              "      <td>Ever get the feeling your life circles the rou...</td>\n",
              "      <td>0</td>\n",
              "    </tr>\n",
              "    <tr>\n",
              "      <th>2</th>\n",
              "      <td>2</td>\n",
              "      <td>Why the Truth Might Get You Fired</td>\n",
              "      <td>Consortiumnews.com</td>\n",
              "      <td>Why the Truth Might Get You Fired October 29, ...</td>\n",
              "      <td>1</td>\n",
              "    </tr>\n",
              "    <tr>\n",
              "      <th>3</th>\n",
              "      <td>3</td>\n",
              "      <td>15 Civilians Killed In Single US Airstrike Hav...</td>\n",
              "      <td>Jessica Purkiss</td>\n",
              "      <td>Videos 15 Civilians Killed In Single US Airstr...</td>\n",
              "      <td>1</td>\n",
              "    </tr>\n",
              "    <tr>\n",
              "      <th>4</th>\n",
              "      <td>4</td>\n",
              "      <td>Iranian woman jailed for fictional unpublished...</td>\n",
              "      <td>Howard Portnoy</td>\n",
              "      <td>Print \\nAn Iranian woman has been sentenced to...</td>\n",
              "      <td>1</td>\n",
              "    </tr>\n",
              "  </tbody>\n",
              "</table>\n",
              "</div>\n",
              "    <div class=\"colab-df-buttons\">\n",
              "\n",
              "  <div class=\"colab-df-container\">\n",
              "    <button class=\"colab-df-convert\" onclick=\"convertToInteractive('df-9904d60d-dbac-46a9-9b4f-33b70b50bf6b')\"\n",
              "            title=\"Convert this dataframe to an interactive table.\"\n",
              "            style=\"display:none;\">\n",
              "\n",
              "  <svg xmlns=\"http://www.w3.org/2000/svg\" height=\"24px\" viewBox=\"0 -960 960 960\">\n",
              "    <path d=\"M120-120v-720h720v720H120Zm60-500h600v-160H180v160Zm220 220h160v-160H400v160Zm0 220h160v-160H400v160ZM180-400h160v-160H180v160Zm440 0h160v-160H620v160ZM180-180h160v-160H180v160Zm440 0h160v-160H620v160Z\"/>\n",
              "  </svg>\n",
              "    </button>\n",
              "\n",
              "  <style>\n",
              "    .colab-df-container {\n",
              "      display:flex;\n",
              "      gap: 12px;\n",
              "    }\n",
              "\n",
              "    .colab-df-convert {\n",
              "      background-color: #E8F0FE;\n",
              "      border: none;\n",
              "      border-radius: 50%;\n",
              "      cursor: pointer;\n",
              "      display: none;\n",
              "      fill: #1967D2;\n",
              "      height: 32px;\n",
              "      padding: 0 0 0 0;\n",
              "      width: 32px;\n",
              "    }\n",
              "\n",
              "    .colab-df-convert:hover {\n",
              "      background-color: #E2EBFA;\n",
              "      box-shadow: 0px 1px 2px rgba(60, 64, 67, 0.3), 0px 1px 3px 1px rgba(60, 64, 67, 0.15);\n",
              "      fill: #174EA6;\n",
              "    }\n",
              "\n",
              "    .colab-df-buttons div {\n",
              "      margin-bottom: 4px;\n",
              "    }\n",
              "\n",
              "    [theme=dark] .colab-df-convert {\n",
              "      background-color: #3B4455;\n",
              "      fill: #D2E3FC;\n",
              "    }\n",
              "\n",
              "    [theme=dark] .colab-df-convert:hover {\n",
              "      background-color: #434B5C;\n",
              "      box-shadow: 0px 1px 3px 1px rgba(0, 0, 0, 0.15);\n",
              "      filter: drop-shadow(0px 1px 2px rgba(0, 0, 0, 0.3));\n",
              "      fill: #FFFFFF;\n",
              "    }\n",
              "  </style>\n",
              "\n",
              "    <script>\n",
              "      const buttonEl =\n",
              "        document.querySelector('#df-9904d60d-dbac-46a9-9b4f-33b70b50bf6b button.colab-df-convert');\n",
              "      buttonEl.style.display =\n",
              "        google.colab.kernel.accessAllowed ? 'block' : 'none';\n",
              "\n",
              "      async function convertToInteractive(key) {\n",
              "        const element = document.querySelector('#df-9904d60d-dbac-46a9-9b4f-33b70b50bf6b');\n",
              "        const dataTable =\n",
              "          await google.colab.kernel.invokeFunction('convertToInteractive',\n",
              "                                                    [key], {});\n",
              "        if (!dataTable) return;\n",
              "\n",
              "        const docLinkHtml = 'Like what you see? Visit the ' +\n",
              "          '<a target=\"_blank\" href=https://colab.research.google.com/notebooks/data_table.ipynb>data table notebook</a>'\n",
              "          + ' to learn more about interactive tables.';\n",
              "        element.innerHTML = '';\n",
              "        dataTable['output_type'] = 'display_data';\n",
              "        await google.colab.output.renderOutput(dataTable, element);\n",
              "        const docLink = document.createElement('div');\n",
              "        docLink.innerHTML = docLinkHtml;\n",
              "        element.appendChild(docLink);\n",
              "      }\n",
              "    </script>\n",
              "  </div>\n",
              "\n",
              "\n",
              "<div id=\"df-e7f79ea3-9c37-467c-a571-bf945ded65e8\">\n",
              "  <button class=\"colab-df-quickchart\" onclick=\"quickchart('df-e7f79ea3-9c37-467c-a571-bf945ded65e8')\"\n",
              "            title=\"Suggest charts\"\n",
              "            style=\"display:none;\">\n",
              "\n",
              "<svg xmlns=\"http://www.w3.org/2000/svg\" height=\"24px\"viewBox=\"0 0 24 24\"\n",
              "     width=\"24px\">\n",
              "    <g>\n",
              "        <path d=\"M19 3H5c-1.1 0-2 .9-2 2v14c0 1.1.9 2 2 2h14c1.1 0 2-.9 2-2V5c0-1.1-.9-2-2-2zM9 17H7v-7h2v7zm4 0h-2V7h2v10zm4 0h-2v-4h2v4z\"/>\n",
              "    </g>\n",
              "</svg>\n",
              "  </button>\n",
              "\n",
              "<style>\n",
              "  .colab-df-quickchart {\n",
              "      --bg-color: #E8F0FE;\n",
              "      --fill-color: #1967D2;\n",
              "      --hover-bg-color: #E2EBFA;\n",
              "      --hover-fill-color: #174EA6;\n",
              "      --disabled-fill-color: #AAA;\n",
              "      --disabled-bg-color: #DDD;\n",
              "  }\n",
              "\n",
              "  [theme=dark] .colab-df-quickchart {\n",
              "      --bg-color: #3B4455;\n",
              "      --fill-color: #D2E3FC;\n",
              "      --hover-bg-color: #434B5C;\n",
              "      --hover-fill-color: #FFFFFF;\n",
              "      --disabled-bg-color: #3B4455;\n",
              "      --disabled-fill-color: #666;\n",
              "  }\n",
              "\n",
              "  .colab-df-quickchart {\n",
              "    background-color: var(--bg-color);\n",
              "    border: none;\n",
              "    border-radius: 50%;\n",
              "    cursor: pointer;\n",
              "    display: none;\n",
              "    fill: var(--fill-color);\n",
              "    height: 32px;\n",
              "    padding: 0;\n",
              "    width: 32px;\n",
              "  }\n",
              "\n",
              "  .colab-df-quickchart:hover {\n",
              "    background-color: var(--hover-bg-color);\n",
              "    box-shadow: 0 1px 2px rgba(60, 64, 67, 0.3), 0 1px 3px 1px rgba(60, 64, 67, 0.15);\n",
              "    fill: var(--button-hover-fill-color);\n",
              "  }\n",
              "\n",
              "  .colab-df-quickchart-complete:disabled,\n",
              "  .colab-df-quickchart-complete:disabled:hover {\n",
              "    background-color: var(--disabled-bg-color);\n",
              "    fill: var(--disabled-fill-color);\n",
              "    box-shadow: none;\n",
              "  }\n",
              "\n",
              "  .colab-df-spinner {\n",
              "    border: 2px solid var(--fill-color);\n",
              "    border-color: transparent;\n",
              "    border-bottom-color: var(--fill-color);\n",
              "    animation:\n",
              "      spin 1s steps(1) infinite;\n",
              "  }\n",
              "\n",
              "  @keyframes spin {\n",
              "    0% {\n",
              "      border-color: transparent;\n",
              "      border-bottom-color: var(--fill-color);\n",
              "      border-left-color: var(--fill-color);\n",
              "    }\n",
              "    20% {\n",
              "      border-color: transparent;\n",
              "      border-left-color: var(--fill-color);\n",
              "      border-top-color: var(--fill-color);\n",
              "    }\n",
              "    30% {\n",
              "      border-color: transparent;\n",
              "      border-left-color: var(--fill-color);\n",
              "      border-top-color: var(--fill-color);\n",
              "      border-right-color: var(--fill-color);\n",
              "    }\n",
              "    40% {\n",
              "      border-color: transparent;\n",
              "      border-right-color: var(--fill-color);\n",
              "      border-top-color: var(--fill-color);\n",
              "    }\n",
              "    60% {\n",
              "      border-color: transparent;\n",
              "      border-right-color: var(--fill-color);\n",
              "    }\n",
              "    80% {\n",
              "      border-color: transparent;\n",
              "      border-right-color: var(--fill-color);\n",
              "      border-bottom-color: var(--fill-color);\n",
              "    }\n",
              "    90% {\n",
              "      border-color: transparent;\n",
              "      border-bottom-color: var(--fill-color);\n",
              "    }\n",
              "  }\n",
              "</style>\n",
              "\n",
              "  <script>\n",
              "    async function quickchart(key) {\n",
              "      const quickchartButtonEl =\n",
              "        document.querySelector('#' + key + ' button');\n",
              "      quickchartButtonEl.disabled = true;  // To prevent multiple clicks.\n",
              "      quickchartButtonEl.classList.add('colab-df-spinner');\n",
              "      try {\n",
              "        const charts = await google.colab.kernel.invokeFunction(\n",
              "            'suggestCharts', [key], {});\n",
              "      } catch (error) {\n",
              "        console.error('Error during call to suggestCharts:', error);\n",
              "      }\n",
              "      quickchartButtonEl.classList.remove('colab-df-spinner');\n",
              "      quickchartButtonEl.classList.add('colab-df-quickchart-complete');\n",
              "    }\n",
              "    (() => {\n",
              "      let quickchartButtonEl =\n",
              "        document.querySelector('#df-e7f79ea3-9c37-467c-a571-bf945ded65e8 button');\n",
              "      quickchartButtonEl.style.display =\n",
              "        google.colab.kernel.accessAllowed ? 'block' : 'none';\n",
              "    })();\n",
              "  </script>\n",
              "</div>\n",
              "\n",
              "    </div>\n",
              "  </div>\n"
            ],
            "application/vnd.google.colaboratory.intrinsic+json": {
              "type": "dataframe",
              "variable_name": "news_dataset",
              "summary": "{\n  \"name\": \"news_dataset\",\n  \"rows\": 30230,\n  \"fields\": [\n    {\n      \"column\": \"id\",\n      \"properties\": {\n        \"dtype\": \"string\",\n        \"num_unique_values\": 20829,\n        \"samples\": [\n          \"11879\",\n          \"9875\",\n          \"14052\"\n        ],\n        \"semantic_type\": \"\",\n        \"description\": \"\"\n      }\n    },\n    {\n      \"column\": \"title\",\n      \"properties\": {\n        \"dtype\": \"string\",\n        \"num_unique_values\": 19824,\n        \"samples\": [\n          \"Three Rules For Rulers\",\n          \"Donald Trump\\u00e2\\u0080\\u0099s Remarks Rattle NATO Allies and Stoke Debate on Cost Sharing - The New York Times\",\n          \"The WORD: 5 States Hillary Is Set to Steal from Trump\"\n        ],\n        \"semantic_type\": \"\",\n        \"description\": \"\"\n      }\n    },\n    {\n      \"column\": \"author\",\n      \"properties\": {\n        \"dtype\": \"category\",\n        \"num_unique_values\": 4219,\n        \"samples\": [\n          \"Graham Bowley and Lori Rotenberk\",\n          \"Jonah Engel Bromwich\",\n          \"Peter Baker and Steven Erlanger\"\n        ],\n        \"semantic_type\": \"\",\n        \"description\": \"\"\n      }\n    },\n    {\n      \"column\": \"text\",\n      \"properties\": {\n        \"dtype\": \"string\",\n        \"num_unique_values\": 20434,\n        \"samples\": [\n          \"MANILA  \\u00e2\\u0080\\u0094   President Rodrigo Duterte of the Philippines, who nurses a longtime grudge against the United States, has declared he wants \\u00e2\\u0080\\u009ca separation\\u00e2\\u0080\\u009d and on Wednesday added that he wants American troops out of his country in two years. Speaking in Tokyo, Mr. Duterte said he was willing to revoke the 2014 agreement letting the Pentagon use five Philippine military bases, a critical component of the Obama administration\\u00e2\\u0080\\u0099s plan to bolster American influence in Asia. \\u00e2\\u0080\\u009cI want them out,\\u00e2\\u0080\\u009d he said of the American troops in his country. While his threats have tapped a deep strain of resentment among Filipinos who feel as if they are treated like a   ally, the country\\u00e2\\u0080\\u0099s deep cultural, economic and military ties to the United States make it unlikely that they will follow him on the path to divorce. Especially not, as Mr. Duterte suggested in Beijing last week, all the way to China. \\u00e2\\u0080\\u009cPractically every family here has a relative in the U. S.,\\u00e2\\u0080\\u009d said Roilo Golez, who served as national security adviser to former President Gloria Macapagal Arroyo. \\u00e2\\u0080\\u009cThey don\\u00e2\\u0080\\u0099t dream of going to China and living there. \\u00e2\\u0080\\u009d The close relationship between the Philippines and the United States, while complicated and at times acrimonious, has existed for more than a century, and the Philippines has been the closest American ally in the region for 70 years. Mr. Duterte\\u00e2\\u0080\\u0099s vow to upend that kinship has frustrated even some of his supporters. \\u00e2\\u0080\\u009cI voted for him, but I\\u00e2\\u0080\\u0099m not sure what he is doing right now,\\u00e2\\u0080\\u009d said Jess Custodio, 56, a bank executive in Manila. \\u00e2\\u0080\\u009cIt is baffling to me. It would tear out the heart of many Filipinos to separate. \\u00e2\\u0080\\u009d The bonds with the United States run wide and deep. About four million Filipinos and   live in the United States, and the money they send home to relatives is a mainstay of the Philippine economy. Another major sector of the economy  \\u00e2\\u0080\\u0094   call centers, largely serving American companies  \\u00e2\\u0080\\u0094   employs more than one million Filipinos. Partly because of the high level of English spoken in the Philippines, the industry is one of the   segments. American movies, music, fashion and consumer goods are popular here. In an earlier era, Filipinos working in the United States would send \\u00e2\\u0080\\u009cbalikbayan boxes\\u00e2\\u0080\\u009d filled with    American food and gifts. Now, shopping malls are packed with   clothes, cosmetics, appliances, foods and other products. More Filipinos hold a favorable view of the United States than even Americans do, 92 percent compared with 82 percent, according to a 2015 survey by the Pew Research Center. Whenever the Philippines has been included by Pew in surveys dating back to 1999, more Filipinos have had a favorable view of the United States than people in any other country. That support extends to the military, where there is considerable backing for the partnership with the United States, especially the assistance that American forces have provided in combating extremists in the southern Philippines. Many Filipino military officers were trained in the United States, and the two nations have staged joint military exercises for decades. \\u00e2\\u0080\\u009cPresident Duterte risks creating a lethal combination of adversaries if he moves to truncate the alliance with the United States,\\u00e2\\u0080\\u009d said Ernest Z. Bower, the president of the consulting firm BowerGroupAsia. \\u00e2\\u0080\\u009cHe would alienate his military, which wants the help of the U. S. \\u00e2\\u0080\\u009d The military has at times played a major role in political affairs and has twice sided with civilian protesters in ousting presidents. The talk of separation has also caused anxiety among some foreign businesses, which may become more cautious in investing or expanding operations here, analysts said. Mr. Duterte seems aware of the risks. Perhaps out of concern for the need for military support, he has made numerous speeches at military bases around the country since taking office in June. And after he returned from Beijing last week, he sought to soften his call for separation. He did not mean cutting diplomatic relations, he explained, which would not be feasible. \\u00e2\\u0080\\u009cWhy?\\u00e2\\u0080\\u009d he asked. \\u00e2\\u0080\\u009cBecause the Filipinos in the United States will kill me. \\u00e2\\u0080\\u009d The Obama administration did not respond directly to Mr. Duterte\\u00e2\\u0080\\u0099s latest threat, but the White House repeated its concerns about what it called his unhelpful rhetoric. The administration has sought to play down the prospect of a rupture in the alliance, in part because officials are not yet certain whether Mr. Duterte\\u00e2\\u0080\\u0099s comments will translate into lasting policy changes. The White House press secretary, Josh Earnest, said on Wednesday that the threats \\u00e2\\u0080\\u009ccontribute to some uncertainty, and that uncertainty is inconsistent with what has for the last seven decades been a   alliance that\\u00e2\\u0080\\u0099s benefited people and governments in both countries. \\u00e2\\u0080\\u009d To Mr. Duterte, those seven decades are largely about abuse and exploitation. His foreign minister, Perfecto Yasay Jr. recently said the Philippines must shake off the \\u00e2\\u0080\\u009cinvisible chains\\u00e2\\u0080\\u009d of being the Americans\\u00e2\\u0080\\u0099 \\u00e2\\u0080\\u009clittle brown brothers. \\u00e2\\u0080\\u009d The United States took the Philippines from Spain in 1898, inheriting Spain\\u00e2\\u0080\\u0099s war against Muslim rebels who were seeking independence. Fighting continued for decades in the southern Philippines, where Islamic rebels still operate today. In 1906, American troops massacred about 600 people  \\u00e2\\u0080\\u0094   including rebels, women and children  \\u00e2\\u0080\\u0094   who had taken refuge in the Bud Dajo volcanic crater on the island of Jolo. Mr. Duterte, responding recently to American criticism of his deadly antidrug campaign, complained that the United States had never apologized for the slaughter. When Japan occupied the Philippines during World War II, Gen. Douglas MacArthur famously returned to drive out the Japanese forces. Many Filipinos still see him as a hero. The United States granted the Philippines independence after the war. Since then, the countries have maintained close economic ties and a strong military alliance, including a mutual defense treaty that dates from 1951. Another low point in the relationship resulted from Washington\\u00e2\\u0080\\u0099s support for the dictator Ferdinand Marcos. After his ouster in 1986, the Philippines adopted a new constitution banning foreign military bases, which led to the eviction of American forces from Clark Air Base and Subic Bay Naval Base. Relations later recovered, and the 2014 agreement allowed the United States to maintain a small force on five Philippine military bases. It was that agreement that Mr. Duterte threatened to cancel on Wednesday. His policy shift has put Japan, another important ally of the United States in Asia and the Philippines\\u00e2\\u0080\\u0099 largest trading partner, in the delicate position of trying to retain a balance in an increasingly tense region where Japan fears any further tilt toward China. In a meeting on Wednesday, Mr. Duterte and Prime Minister Shinzo Abe of Japan discussed the importance of both the alliance between Japan and the United States and the alliance between the Philippines and the United States. If the Philippines is the most   country in the world, the   view has a strong constituency as well. Even among the military, there are complaints that the United States often provides outdated hardware,     . \\u00e2\\u0080\\u009cDuterte has indeed tapped into a deep and atavistic frustration of many Filipinos that the U. S. approach to their country has been paternalistic,\\u00e2\\u0080\\u009d Mr. Bower said. \\u00e2\\u0080\\u009cThese feelings are real, and sharpened by the coexisting affinity for U. S. culture, brands and people. \\u00e2\\u0080\\u009d The resentment focuses not just on historical slights. Mr. Duterte has said he was motivated in part by his lingering anger over the 2002 case of Michael Terrence Meiring, an American who was seriously injured when a bomb exploded in his hotel room in Davao City, where Mr. Duterte was then mayor. Soon after, Mr. Meiring vanished from his hospital room. Mr. Duterte has long said he believed Mr. Meiring was a terrorist spirited away illegally by American operatives to avoid a trial on criminal charges. Only recently have American officials begun speaking publicly about the case. Ambassador Philip Goldberg said in a television interview on Tuesday that he understood the president\\u00e2\\u0080\\u0099s concern but that he believed that no laws were broken. \\u00e2\\u0080\\u009cHe was transported by international air ambulance with no stop order, no arrest order, for further treatment because his family wanted to make sure his life was saved and wanted advanced medical care,\\u00e2\\u0080\\u009d Mr. Goldberg said. For all Mr. Duterte\\u00e2\\u0080\\u0099s talk, the United States has not received any request to curtail programs, reduce cooperation, cut aid or sever ties, the embassy here said. But if Mr. Duterte\\u00e2\\u0080\\u0099s goal was to receive more attention from Washington, he has succeeded. Assistant Secretary of State Daniel R. Russel, a top State Department official, visited Manila this week and met with Mr. Yasay. Afterward, Mr. Russel told reporters that the United States fully supported the Philippines\\u00e2\\u0080\\u0099 having an independent foreign policy and welcomed a reduction in tensions between Manila and Beijing. But he also cautioned that confusion created by Mr. Duterte\\u00e2\\u0080\\u0099s comments was \\u00e2\\u0080\\u009cbad for business. \\u00e2\\u0080\\u009d \\u00e2\\u0080\\u009cThe succession of controversial comments, and a real climate of uncertainty about the Philippines\\u00e2\\u0080\\u0099 intentions, has created consternation in many countries, not only in mine, and not only among governments,\\u00e2\\u0080\\u009d he said. \\u00e2\\u0080\\u009cThere is growing concern in other communities and the expat Filipino community, in corporate board rooms as well. That\\u00e2\\u0080\\u0099s not a positive trend. \\u00e2\\u0080\\u009d Mr. Duterte responded true to form on Tuesday, lashing out at the American business community before leaving for Japan. \\u00e2\\u0080\\u009cGo ahead, pack your bags,\\u00e2\\u0080\\u009d he said. \\u00e2\\u0080\\u009cWe will sacrifice. We will recover, I assure you. \\u00e2\\u0080\\u009d\",\n          \"See Dems accept foreign cash to disrupt Trump rallies Undercover footage catches Hillary operative red-handed Published: 7 mins ago Bob Unruh About | | Archive Bob Unruh joined WND in 2006 after nearly three decades with the Associated Press, as well as several Upper Midwest newspapers, where he covered everything from legislative battles and sports to tornadoes and homicidal survivalists. He is also a photographer whose scenic work has been used commercially. Print \\nA Hillary Clinton-supporting advocacy organization had no trouble accepting a $20,000 donation funneled through a Belize bank to use in this year\\u00e2\\u0080\\u0099s presidential election campaign \\u00e2\\u0080\\u0093 until its decision was about to be made public in a series of undercover videos by James O\\u00e2\\u0080\\u0099Keefe\\u00e2\\u0080\\u0099s Project Veritas Action. \\nSuddenly, the head of the organization expressed suspicion about the donation\\u00e2\\u0080\\u0099s overseas origin and decided to return it. \\nThat\\u00e2\\u0080\\u0099s one of the significant revelations in the latest in a series of videos released by O\\u00e2\\u0080\\u0099Keefe called \\u00e2\\u0080\\u009cRigging the Election.\\u00e2\\u0080\\u009d \\nO\\u00e2\\u0080\\u0099Keefe explained he had a fictitious donor meet with Bob Creamer, who was a staffer at Americans United for Change, a group supporting Clinton for president, until the videos started appearing last week. \\nHe said Creamer, who boasted of working directly for the Clinton campaign, directed that the $20,000 donation go to AUFC \\u00e2\\u0080\\u009cto disrupt rallies and fund bracketing ops.\\u00e2\\u0080\\u009d \\nO\\u00e2\\u0080\\u0099Keefe said he and his colleagues were very careful not to violate the law themselves. \\nCreamer was clear about his ties to Clinton, stating, \\u00e2\\u0080\\u009cEvery morning I am on a call at 10:30 that goes over the message being driven by the campaign headquarters.\\u00e2\\u0080\\u009d \\nSign the precedent-setting petition supporting Trump\\u00e2\\u0080\\u0099s call for an independent prosecutor to investigate Hillary Clinton! \\nProject Veritas\\u00e2\\u0080\\u0099 first video explained how the Clinton campaign uses \\u00e2\\u0080\\u009chidden connections\\u00e2\\u0080\\u009d to incite violence at Donald Trump rallies. Its second video showed plans for step-by-step voter fraud and the third exposed \\u00e2\\u0080\\u009cprohibited communications\\u00e2\\u0080\\u009d between Hillary Clinton\\u00e2\\u0080\\u0099s campaign, \\u00e2\\u0080\\u009cthe DNC and the nonprofit Americans United for Change.\\u00e2\\u0080\\u009d \\nThe fourth video \\u00e2\\u0080\\u009cbreaks down the process of the long-term investigation.\\u00e2\\u0080\\u009d It comes after Creamer\\u00e2\\u0080\\u0099s announcement that he was stepping down from campaign responsibilities. \\nO\\u00e2\\u0080\\u0099Keefe and Project Veritas Action have filed a complaint with the Federal Election Commission. \\nAmong the revelations in the latest video was Creamer was boasting of his close links to President Obama. \\n\\u00e2\\u0080\\u009cOh, Barack Obama\\u00e2\\u0080\\u0099s was the best campaign in the history of American politics, I mean the second one, I mean the first was good, too. I was a consultant to both, the second one, was everything hit on every level and every aspect,\\u00e2\\u0080\\u009d he said. \\u00e2\\u0080\\u009cHe\\u00e2\\u0080\\u0099s a pro, I\\u00e2\\u0080\\u0099ve known the president since he was a community organizer in Chicago.\\u00e2\\u0080\\u009d \\nWhen asked whether a potential donor could meet Obama, Creamer said: \\u00e2\\u0080\\u009cOK, you may have a lot more opportunity once he is done in 98 days, 97. I was just at an event with him in Chicago, Friday of last week, he is just as good as ever. I do a lot of work with the White House on their issues, helping to run issued campaigns that they have been involved in. I mean, for immigration reform for the \\u00e2\\u0080\\u00a6 the health care bill, trying to make America more like Britain when it comes to gun violence issues.\\u00e2\\u0080\\u009d \\nExplained Project Veritas: \\u00e2\\u0080\\u009cThe more that was promised to Creamer, the more access Project Veritas Action journalists seemed to get. Project Veritas Action\\u00e2\\u0080\\u0099s $20,000 investment paid off. The story was solid. Robert Creamer, Scott Foval, Jenna Price from the DNC, Brad Woodhouse from AUFC, Cesar Vargas and others opened the door to their smoke filled rooms of illegal and dirty campaign dealings, as seen in the three previous PVA videos.\\u00e2\\u0080\\u009d \\nIn the first video, Foval, a Democratic operative, boasted of what he called \\u00e2\\u0080\\u009cconflict engagement,\\u00e2\\u0080\\u009d or sending protesters to disrupt Trump events. \\n\\u00e2\\u0080\\u009cWe\\u00e2\\u0080\\u0099re starting anarchy here,\\u00e2\\u0080\\u009d he said. \\u00e2\\u0080\\u009cAnd he needs to understand that we\\u00e2\\u0080\\u0099re starting anarchy.\\u00e2\\u0080\\u009d \\nIn the second video, Creamer explained Clinton\\u00e2\\u0080\\u0099s direct control over those disruption operations. \\n\\u00e2\\u0080\\u009cIn the end it was the candidate, Hillary Clinton, the future President of the United States, who wanted ducks on the ground, so by god we would get ducks on the ground,\\u00e2\\u0080\\u009d Creamer said. \\nCreamer, the husband of Democratic Rep. Jan Schakowsky of Illinois, has starred in several of the undercover videos. \\nHere\\u00e2\\u0080\\u0099s the third: \\nThat video also revealed a direct conflict between what Creamer was confirming \\u00e2\\u0080\\u0093 Clinton\\u00e2\\u0080\\u0099s active involvement in such decisions and campaigns \\u00e2\\u0080\\u0093 and the claim of her campaign manager, Robby Mook. \\nMook told CNN over the weekend that there was no pathway between the activists staging violence and Clinton. \\nSign the precedent-setting petition supporting Trump\\u00e2\\u0080\\u0099s call for an independent prosecutor to investigate Hillary Clinton! \\n\\u00e2\\u0080\\u009cThese individuals no longer have a relationship with the DNC,\\u00e2\\u0080\\u009d he said. \\u00e2\\u0080\\u009cThey\\u00e2\\u0080\\u0099ve never had a relationship with the Clinton campaign and my understanding is that the events that are referenced happened I think in February of last year. \\n\\u00e2\\u0080\\u009cThey did not have a contract with the DNC until June. But putting all that aside, this was again a video that was leaked out with the purpose of damaging the campaign, it is edited so we don\\u00e2\\u0080\\u0099t know what the full context is. And there\\u00e2\\u0080\\u0099s no evidence whatsoever \\u00e2\\u0080\\u00a6 that anyone ever did anything like this when they were working for the DNC.\\u00e2\\u0080\\u009d \\nHis comments: \\nAfter confirming it was Clinton or \\u00e2\\u0080\\u009cwanted ducks on the ground,\\u00e2\\u0080\\u009d Creamer warned undercover Project Veritas journalists, \\u00e2\\u0080\\u009cDon\\u00e2\\u0080\\u0099t repeat that to anybody.\\u00e2\\u0080\\u009d \\nCreamer ran Democracy Partners, a consulting company with ties to Clinton. \\nHe has been to the White House 342 times while Obama has been president, including 47 meetings directly with Obama. \\nO\\u00e2\\u0080\\u0099Keefe\\u00e2\\u0080\\u0099s organization reported that the coordination between the campaign, the DNC and the Americans United for Change \\u00e2\\u0080\\u009csmacks of illegal coordinated campaign expenditures.\\u00e2\\u0080\\u009d \\nLast week , Project Veritas filed a complaint with the Federal Election Commission asking for an investigation into the Clinton campaign\\u00e2\\u0080\\u0099s \\u00e2\\u0080\\u009ccriminal conspiracy.\\u00e2\\u0080\\u009d \\nThe filing of the complaint with the federal agency follows the release of two videos in which Democrats explain how they can attempt to change the outcome of the election through apparently fraudulent means, such as having people travel across state lines to vote illegally. \\nThe video have resulted already in two Democratic operatives losing their jobs. \\nEditor\\u00e2\\u0080\\u0099s Note: Be aware of offensive language throughout videos and in quotes from videos. \\nOne is Scott Foval, who had worked for People for the American Way, a George Soros-funded group, and more recently with Americans United for Change. \\nIn the video, he said: \\u00e2\\u0080\\u009cYou know what? We\\u00e2\\u0080\\u0099ve been busing people in to deal with you f\\u00e2\\u0080\\u0094ing a\\u00e2\\u0080\\u0094\\u00e2\\u0080\\u0093es for 50 years, and we\\u00e2\\u0080\\u0099re not going to stop now.\\u00e2\\u0080\\u009d \\nAlso, he said he and his agents are \\u00e2\\u0080\\u009cstarting anarchy\\u00e2\\u0080\\u009d by creating \\u00e2\\u0080\\u009cconflict engagement \\u00e2\\u0080\\u00a6 in the lines at Trump rallies.\\u00e2\\u0080\\u009d \\nAlso out of work is Creamer. \\nSee the second video: \\nTalk-radio icon Rush Limbaugh said the evidence is worrisome. \\n\\u00e2\\u0080\\u009cEvery Trump rally would feature none of this [violence] unless the Democrats were paying for it. I think it\\u00e2\\u0080\\u0099s a big deal, folks. The media is complicit. They know who these people are. \\u00e2\\u0080\\u00a6 They\\u00e2\\u0080\\u0099re in on it. They\\u00e2\\u0080\\u0099re part of the game. \\u00e2\\u0080\\u00a6 None of it\\u00e2\\u0080\\u0099s organic. None of it\\u00e2\\u0080\\u0099s natural. None of it\\u00e2\\u0080\\u0099s real. Every bit of it is bought and paid for. \\n\\u00e2\\u0080\\u009c[Democrats] can\\u00e2\\u0080\\u0099t leave elections to chance because they know that, despite the way it may look, the majority of Americans would not support them if they knew who they are.\\u00e2\\u0080\\u009d \\nThe first video:\",\n          \"As long as it identifies as accounting\"\n        ],\n        \"semantic_type\": \"\",\n        \"description\": \"\"\n      }\n    },\n    {\n      \"column\": \"label\",\n      \"properties\": {\n        \"dtype\": \"category\",\n        \"num_unique_values\": 5,\n        \"samples\": [\n          \"0\",\n          \"\\u00e2\\u0080\\u009d but if you\\u00e2\\u0080\\u0099d allow me to offer some humble suggestions: \",\n          \" 2016 \"\n        ],\n        \"semantic_type\": \"\",\n        \"description\": \"\"\n      }\n    }\n  ]\n}"
            }
          },
          "metadata": {},
          "execution_count": 10
        }
      ]
    },
    {
      "cell_type": "code",
      "source": [
        "# counting the number of missing values in the dataset\n",
        "news_dataset.isnull().sum()"
      ],
      "metadata": {
        "colab": {
          "base_uri": "https://localhost:8080/",
          "height": 241
        },
        "id": "DYy2mCxYDBtF",
        "outputId": "2bd9eee0-769f-44a3-e839-ae9f434a91b3"
      },
      "execution_count": 11,
      "outputs": [
        {
          "output_type": "execute_result",
          "data": {
            "text/plain": [
              "id           0\n",
              "title      812\n",
              "author    2863\n",
              "text        76\n",
              "label       29\n",
              "dtype: int64"
            ],
            "text/html": [
              "<div>\n",
              "<style scoped>\n",
              "    .dataframe tbody tr th:only-of-type {\n",
              "        vertical-align: middle;\n",
              "    }\n",
              "\n",
              "    .dataframe tbody tr th {\n",
              "        vertical-align: top;\n",
              "    }\n",
              "\n",
              "    .dataframe thead th {\n",
              "        text-align: right;\n",
              "    }\n",
              "</style>\n",
              "<table border=\"1\" class=\"dataframe\">\n",
              "  <thead>\n",
              "    <tr style=\"text-align: right;\">\n",
              "      <th></th>\n",
              "      <th>0</th>\n",
              "    </tr>\n",
              "  </thead>\n",
              "  <tbody>\n",
              "    <tr>\n",
              "      <th>id</th>\n",
              "      <td>0</td>\n",
              "    </tr>\n",
              "    <tr>\n",
              "      <th>title</th>\n",
              "      <td>812</td>\n",
              "    </tr>\n",
              "    <tr>\n",
              "      <th>author</th>\n",
              "      <td>2863</td>\n",
              "    </tr>\n",
              "    <tr>\n",
              "      <th>text</th>\n",
              "      <td>76</td>\n",
              "    </tr>\n",
              "    <tr>\n",
              "      <th>label</th>\n",
              "      <td>29</td>\n",
              "    </tr>\n",
              "  </tbody>\n",
              "</table>\n",
              "</div><br><label><b>dtype:</b> int64</label>"
            ]
          },
          "metadata": {},
          "execution_count": 11
        }
      ]
    },
    {
      "cell_type": "code",
      "source": [
        "# replacing the null values with empty string\n",
        "news_dataset = news_dataset.fillna('')"
      ],
      "metadata": {
        "id": "EbkrQMalEtaF"
      },
      "execution_count": 16,
      "outputs": []
    },
    {
      "cell_type": "code",
      "source": [
        "# merging the author name and news title\n",
        "news_dataset['content'] = news_dataset['author']+' '+news_dataset['title']"
      ],
      "metadata": {
        "id": "V8ndICB7EvxE"
      },
      "execution_count": 18,
      "outputs": []
    },
    {
      "cell_type": "code",
      "source": [
        "print(news_dataset['content'])"
      ],
      "metadata": {
        "colab": {
          "base_uri": "https://localhost:8080/"
        },
        "id": "Gnw3DLU0EyEs",
        "outputId": "df1168e4-b8b7-43f3-8d3f-3dd8b6f6f50f"
      },
      "execution_count": 19,
      "outputs": [
        {
          "output_type": "stream",
          "name": "stdout",
          "text": [
            "0        Darrell Lucus House Dem Aide: We Didnât Even...\n",
            "1        Daniel J. Flynn FLYNN: Hillary Clinton, Big Wo...\n",
            "2        Consortiumnews.com Why the Truth Might Get You...\n",
            "3        Jessica Purkiss 15 Civilians Killed In Single ...\n",
            "4        Howard Portnoy Iranian woman jailed for fictio...\n",
            "                               ...                        \n",
            "30225    Jerome Hudson Rapper T.I.: Trump a âPoster C...\n",
            "30226    Benjamin Hoffman N.F.L. Playoffs: Schedule, Ma...\n",
            "30227    Michael J. de la Merced and Rachel Abrams Macy...\n",
            "30228    Alex Ansary NATO, Russia To Hold Parallel Exer...\n",
            "30229              David Swanson What Keeps the F-35 Alive\n",
            "Name: content, Length: 30230, dtype: object\n"
          ]
        }
      ]
    },
    {
      "cell_type": "code",
      "source": [
        "# separating the data & label\n",
        "X = news_dataset.drop(columns='label', axis=1)\n",
        "Y = news_dataset['label']"
      ],
      "metadata": {
        "id": "yOik1rNcE0Tf"
      },
      "execution_count": 20,
      "outputs": []
    },
    {
      "cell_type": "code",
      "source": [
        "print(X)\n",
        "print(Y)"
      ],
      "metadata": {
        "colab": {
          "base_uri": "https://localhost:8080/"
        },
        "id": "wxgieO8tE2bP",
        "outputId": "3a501ea8-50e0-4155-bdea-959f63bf326b"
      },
      "execution_count": 21,
      "outputs": [
        {
          "output_type": "stream",
          "name": "stdout",
          "text": [
            "          id                                              title  \\\n",
            "0          0  House Dem Aide: We Didnât Even See Comeyâs...   \n",
            "1          1  FLYNN: Hillary Clinton, Big Woman on Campus - ...   \n",
            "2          2                  Why the Truth Might Get You Fired   \n",
            "3          3  15 Civilians Killed In Single US Airstrike Hav...   \n",
            "4          4  Iranian woman jailed for fictional unpublished...   \n",
            "...      ...                                                ...   \n",
            "30225  20795  Rapper T.I.: Trump a âPoster Child For White...   \n",
            "30226  20796  N.F.L. Playoffs: Schedule, Matchups and Odds -...   \n",
            "30227  20797  Macyâs Is Said to Receive Takeover Approach ...   \n",
            "30228  20798  NATO, Russia To Hold Parallel Exercises In Bal...   \n",
            "30229  20799                          What Keeps the F-35 Alive   \n",
            "\n",
            "                                          author  \\\n",
            "0                                  Darrell Lucus   \n",
            "1                                Daniel J. Flynn   \n",
            "2                             Consortiumnews.com   \n",
            "3                                Jessica Purkiss   \n",
            "4                                 Howard Portnoy   \n",
            "...                                          ...   \n",
            "30225                              Jerome Hudson   \n",
            "30226                           Benjamin Hoffman   \n",
            "30227  Michael J. de la Merced and Rachel Abrams   \n",
            "30228                                Alex Ansary   \n",
            "30229                              David Swanson   \n",
            "\n",
            "                                                    text  \\\n",
            "0      House Dem Aide: We Didnât Even See Comeyâs...   \n",
            "1      Ever get the feeling your life circles the rou...   \n",
            "2      Why the Truth Might Get You Fired October 29, ...   \n",
            "3      Videos 15 Civilians Killed In Single US Airstr...   \n",
            "4      Print \\nAn Iranian woman has been sentenced to...   \n",
            "...                                                  ...   \n",
            "30225  Rapper T. I. unloaded on black celebrities who...   \n",
            "30226  When the Green Bay Packers lost to the Washing...   \n",
            "30227  The Macyâs of today grew from the union of s...   \n",
            "30228  NATO, Russia To Hold Parallel Exercises In Bal...   \n",
            "30229    David Swanson is an author, activist, journa...   \n",
            "\n",
            "                                                 content  \n",
            "0      Darrell Lucus House Dem Aide: We Didnât Even...  \n",
            "1      Daniel J. Flynn FLYNN: Hillary Clinton, Big Wo...  \n",
            "2      Consortiumnews.com Why the Truth Might Get You...  \n",
            "3      Jessica Purkiss 15 Civilians Killed In Single ...  \n",
            "4      Howard Portnoy Iranian woman jailed for fictio...  \n",
            "...                                                  ...  \n",
            "30225  Jerome Hudson Rapper T.I.: Trump a âPoster C...  \n",
            "30226  Benjamin Hoffman N.F.L. Playoffs: Schedule, Ma...  \n",
            "30227  Michael J. de la Merced and Rachel Abrams Macy...  \n",
            "30228  Alex Ansary NATO, Russia To Hold Parallel Exer...  \n",
            "30229            David Swanson What Keeps the F-35 Alive  \n",
            "\n",
            "[30230 rows x 5 columns]\n",
            "0        1\n",
            "1        0\n",
            "2        1\n",
            "3        1\n",
            "4        1\n",
            "        ..\n",
            "30225    0\n",
            "30226    0\n",
            "30227    0\n",
            "30228    1\n",
            "30229    1\n",
            "Name: label, Length: 30230, dtype: object\n"
          ]
        }
      ]
    },
    {
      "cell_type": "markdown",
      "source": [
        "Stemming:\n",
        "\n",
        "Stemming is the process of reducing a word to its Root word"
      ],
      "metadata": {
        "id": "leydA3JSE7nB"
      }
    },
    {
      "cell_type": "code",
      "source": [
        "port_stem = PorterStemmer()"
      ],
      "metadata": {
        "id": "T1Vlcrr4FJt2"
      },
      "execution_count": 25,
      "outputs": []
    },
    {
      "cell_type": "code",
      "source": [
        "def stemming(content):\n",
        "    stemmed_content = re.sub('[^a-zA-Z]',' ',content)\n",
        "    stemmed_content = stemmed_content.lower()\n",
        "    stemmed_content = stemmed_content.split()\n",
        "    stemmed_content = [port_stem.stem(word) for word in stemmed_content if not word in stopwords.words('english')]\n",
        "    stemmed_content = ' '.join(stemmed_content)\n",
        "    return stemmed_content"
      ],
      "metadata": {
        "id": "5IacWO6rE8KI"
      },
      "execution_count": 26,
      "outputs": []
    },
    {
      "cell_type": "code",
      "source": [
        "news_dataset['content'] = news_dataset['content'].apply(stemming)"
      ],
      "metadata": {
        "id": "V5oHKRh-E_pM"
      },
      "execution_count": 27,
      "outputs": []
    },
    {
      "cell_type": "code",
      "source": [
        "print(news_dataset['content'])"
      ],
      "metadata": {
        "colab": {
          "base_uri": "https://localhost:8080/"
        },
        "id": "284TBnCvFdlk",
        "outputId": "cc62215a-c72a-4dc7-bc39-89e87ddf0650"
      },
      "execution_count": 28,
      "outputs": [
        {
          "output_type": "stream",
          "name": "stdout",
          "text": [
            "0        darrel lucu hous dem aid even see comey letter...\n",
            "1        daniel j flynn flynn hillari clinton big woman...\n",
            "2                   consortiumnew com truth might get fire\n",
            "3        jessica purkiss civilian kill singl us airstri...\n",
            "4        howard portnoy iranian woman jail fiction unpu...\n",
            "                               ...                        \n",
            "30225    jerom hudson rapper trump poster child white s...\n",
            "30226    benjamin hoffman n f l playoff schedul matchup...\n",
            "30227    michael j de la merc rachel abram maci said re...\n",
            "30228    alex ansari nato russia hold parallel exercis ...\n",
            "30229                            david swanson keep f aliv\n",
            "Name: content, Length: 30230, dtype: object\n"
          ]
        }
      ]
    },
    {
      "cell_type": "code",
      "source": [
        "#separating the data and label\n",
        "X = news_dataset['content'].values\n",
        "Y = news_dataset['label'].values"
      ],
      "metadata": {
        "id": "CDpLnOlZFgWU"
      },
      "execution_count": 29,
      "outputs": []
    },
    {
      "cell_type": "code",
      "source": [
        "print(X)"
      ],
      "metadata": {
        "colab": {
          "base_uri": "https://localhost:8080/"
        },
        "id": "0fE6eG30FiB1",
        "outputId": "93a9d3f0-b0b9-486d-af07-ae50c5d87991"
      },
      "execution_count": 30,
      "outputs": [
        {
          "output_type": "stream",
          "name": "stdout",
          "text": [
            "['darrel lucu hous dem aid even see comey letter jason chaffetz tweet'\n",
            " 'daniel j flynn flynn hillari clinton big woman campu breitbart'\n",
            " 'consortiumnew com truth might get fire' ...\n",
            " 'michael j de la merc rachel abram maci said receiv takeov approach hudson bay new york time'\n",
            " 'alex ansari nato russia hold parallel exercis balkan'\n",
            " 'david swanson keep f aliv']\n"
          ]
        }
      ]
    },
    {
      "cell_type": "code",
      "source": [
        "print(Y)"
      ],
      "metadata": {
        "colab": {
          "base_uri": "https://localhost:8080/"
        },
        "id": "yxO_6ivyFj11",
        "outputId": "65fc1fad-af58-4e36-befd-8d3ee47ac1b6"
      },
      "execution_count": 31,
      "outputs": [
        {
          "output_type": "stream",
          "name": "stdout",
          "text": [
            "['1' '0' '1' ... '0' '1' '1']\n"
          ]
        }
      ]
    },
    {
      "cell_type": "code",
      "source": [
        "# converting the textual data to numerical data\n",
        "vectorizer = TfidfVectorizer()\n",
        "vectorizer.fit(X)\n",
        "\n",
        "X = vectorizer.transform(X)"
      ],
      "metadata": {
        "id": "oSEpxq-NFlvN"
      },
      "execution_count": 32,
      "outputs": []
    },
    {
      "cell_type": "code",
      "source": [
        "print(X)"
      ],
      "metadata": {
        "colab": {
          "base_uri": "https://localhost:8080/"
        },
        "id": "WfCH_zMOFnzd",
        "outputId": "d5625bfc-6949-47b3-caef-de57ecd93786"
      },
      "execution_count": 33,
      "outputs": [
        {
          "output_type": "stream",
          "name": "stdout",
          "text": [
            "  (0, 267)\t0.2683216496004606\n",
            "  (0, 2486)\t0.36725857882974516\n",
            "  (0, 2963)\t0.24646923370354198\n",
            "  (0, 3606)\t0.36160716109305074\n",
            "  (0, 3799)\t0.2701102015737163\n",
            "  (0, 4983)\t0.23139118426619124\n",
            "  (0, 7020)\t0.2163567422582884\n",
            "  (0, 7711)\t0.24861261650124197\n",
            "  (0, 8649)\t0.29349129870543583\n",
            "  (0, 8928)\t0.36725857882974516\n",
            "  (0, 13502)\t0.25408121423487334\n",
            "  (0, 15721)\t0.28447260464590324\n",
            "  (1, 1498)\t0.2959557781167794\n",
            "  (1, 1897)\t0.15659771425359897\n",
            "  (1, 2226)\t0.38316362237635554\n",
            "  (1, 2817)\t0.1918046161526445\n",
            "  (1, 3574)\t0.2632845057281194\n",
            "  (1, 5516)\t0.7115505822045847\n",
            "  (1, 6831)\t0.1914441246305809\n",
            "  (1, 16839)\t0.30333174273730956\n",
            "  (2, 2947)\t0.3174585617621041\n",
            "  (2, 3107)\t0.46277218525555425\n",
            "  (2, 5402)\t0.38668415074835044\n",
            "  (2, 5982)\t0.3483272044712433\n",
            "  (2, 9641)\t0.4941432573914392\n",
            "  :\t:\n",
            "  (30227, 3649)\t0.21082751469616068\n",
            "  (30227, 7058)\t0.21750877247652928\n",
            "  (30227, 8383)\t0.22245112782306817\n",
            "  (30227, 9007)\t0.3625408758893759\n",
            "  (30227, 9538)\t0.2954141459709244\n",
            "  (30227, 9609)\t0.17564596690128656\n",
            "  (30227, 10329)\t0.0808193101804178\n",
            "  (30227, 12166)\t0.24883409706393983\n",
            "  (30227, 12372)\t0.2718519172663636\n",
            "  (30227, 13151)\t0.24517727932710703\n",
            "  (30227, 14998)\t0.31308681480843054\n",
            "  (30227, 15327)\t0.08196298307021338\n",
            "  (30227, 17036)\t0.08358499343698063\n",
            "  (30228, 350)\t0.28224721288703974\n",
            "  (30228, 589)\t0.3096935765172709\n",
            "  (30228, 1126)\t0.4489145213875075\n",
            "  (30228, 5044)\t0.40640726624599943\n",
            "  (30228, 6904)\t0.32603774445608485\n",
            "  (30228, 10199)\t0.3165202019064903\n",
            "  (30228, 11077)\t0.4489145213875075\n",
            "  (30228, 13075)\t0.2229919042786217\n",
            "  (30229, 377)\t0.5671285297095707\n",
            "  (30229, 3629)\t0.3785880441559374\n",
            "  (30229, 8055)\t0.4593414029721256\n",
            "  (30229, 14883)\t0.569246694436816\n"
          ]
        }
      ]
    },
    {
      "cell_type": "markdown",
      "source": [
        "Splitting the dataset to training & test data"
      ],
      "metadata": {
        "id": "79uHM5JhFqEk"
      }
    },
    {
      "cell_type": "code",
      "source": [
        "X_train, X_test, Y_train, Y_test = train_test_split(X, Y, test_size = 0.2, random_state=2)"
      ],
      "metadata": {
        "id": "fasBnZlIFqmN"
      },
      "execution_count": 35,
      "outputs": []
    },
    {
      "cell_type": "markdown",
      "source": [
        "Training the Model: Logistic Regression"
      ],
      "metadata": {
        "id": "S-4J5CE_GO5M"
      }
    },
    {
      "cell_type": "code",
      "source": [
        "model = LogisticRegression()"
      ],
      "metadata": {
        "id": "3QiGiIiDGQJV"
      },
      "execution_count": 37,
      "outputs": []
    },
    {
      "cell_type": "code",
      "source": [
        "model.fit(X_train, Y_train)"
      ],
      "metadata": {
        "colab": {
          "base_uri": "https://localhost:8080/",
          "height": 80
        },
        "id": "SLpPU8LeGRnF",
        "outputId": "12aac57e-057c-4849-d725-1fa0a86059f2"
      },
      "execution_count": 38,
      "outputs": [
        {
          "output_type": "execute_result",
          "data": {
            "text/plain": [
              "LogisticRegression()"
            ],
            "text/html": [
              "<style>#sk-container-id-1 {\n",
              "  /* Definition of color scheme common for light and dark mode */\n",
              "  --sklearn-color-text: #000;\n",
              "  --sklearn-color-text-muted: #666;\n",
              "  --sklearn-color-line: gray;\n",
              "  /* Definition of color scheme for unfitted estimators */\n",
              "  --sklearn-color-unfitted-level-0: #fff5e6;\n",
              "  --sklearn-color-unfitted-level-1: #f6e4d2;\n",
              "  --sklearn-color-unfitted-level-2: #ffe0b3;\n",
              "  --sklearn-color-unfitted-level-3: chocolate;\n",
              "  /* Definition of color scheme for fitted estimators */\n",
              "  --sklearn-color-fitted-level-0: #f0f8ff;\n",
              "  --sklearn-color-fitted-level-1: #d4ebff;\n",
              "  --sklearn-color-fitted-level-2: #b3dbfd;\n",
              "  --sklearn-color-fitted-level-3: cornflowerblue;\n",
              "\n",
              "  /* Specific color for light theme */\n",
              "  --sklearn-color-text-on-default-background: var(--sg-text-color, var(--theme-code-foreground, var(--jp-content-font-color1, black)));\n",
              "  --sklearn-color-background: var(--sg-background-color, var(--theme-background, var(--jp-layout-color0, white)));\n",
              "  --sklearn-color-border-box: var(--sg-text-color, var(--theme-code-foreground, var(--jp-content-font-color1, black)));\n",
              "  --sklearn-color-icon: #696969;\n",
              "\n",
              "  @media (prefers-color-scheme: dark) {\n",
              "    /* Redefinition of color scheme for dark theme */\n",
              "    --sklearn-color-text-on-default-background: var(--sg-text-color, var(--theme-code-foreground, var(--jp-content-font-color1, white)));\n",
              "    --sklearn-color-background: var(--sg-background-color, var(--theme-background, var(--jp-layout-color0, #111)));\n",
              "    --sklearn-color-border-box: var(--sg-text-color, var(--theme-code-foreground, var(--jp-content-font-color1, white)));\n",
              "    --sklearn-color-icon: #878787;\n",
              "  }\n",
              "}\n",
              "\n",
              "#sk-container-id-1 {\n",
              "  color: var(--sklearn-color-text);\n",
              "}\n",
              "\n",
              "#sk-container-id-1 pre {\n",
              "  padding: 0;\n",
              "}\n",
              "\n",
              "#sk-container-id-1 input.sk-hidden--visually {\n",
              "  border: 0;\n",
              "  clip: rect(1px 1px 1px 1px);\n",
              "  clip: rect(1px, 1px, 1px, 1px);\n",
              "  height: 1px;\n",
              "  margin: -1px;\n",
              "  overflow: hidden;\n",
              "  padding: 0;\n",
              "  position: absolute;\n",
              "  width: 1px;\n",
              "}\n",
              "\n",
              "#sk-container-id-1 div.sk-dashed-wrapped {\n",
              "  border: 1px dashed var(--sklearn-color-line);\n",
              "  margin: 0 0.4em 0.5em 0.4em;\n",
              "  box-sizing: border-box;\n",
              "  padding-bottom: 0.4em;\n",
              "  background-color: var(--sklearn-color-background);\n",
              "}\n",
              "\n",
              "#sk-container-id-1 div.sk-container {\n",
              "  /* jupyter's `normalize.less` sets `[hidden] { display: none; }`\n",
              "     but bootstrap.min.css set `[hidden] { display: none !important; }`\n",
              "     so we also need the `!important` here to be able to override the\n",
              "     default hidden behavior on the sphinx rendered scikit-learn.org.\n",
              "     See: https://github.com/scikit-learn/scikit-learn/issues/21755 */\n",
              "  display: inline-block !important;\n",
              "  position: relative;\n",
              "}\n",
              "\n",
              "#sk-container-id-1 div.sk-text-repr-fallback {\n",
              "  display: none;\n",
              "}\n",
              "\n",
              "div.sk-parallel-item,\n",
              "div.sk-serial,\n",
              "div.sk-item {\n",
              "  /* draw centered vertical line to link estimators */\n",
              "  background-image: linear-gradient(var(--sklearn-color-text-on-default-background), var(--sklearn-color-text-on-default-background));\n",
              "  background-size: 2px 100%;\n",
              "  background-repeat: no-repeat;\n",
              "  background-position: center center;\n",
              "}\n",
              "\n",
              "/* Parallel-specific style estimator block */\n",
              "\n",
              "#sk-container-id-1 div.sk-parallel-item::after {\n",
              "  content: \"\";\n",
              "  width: 100%;\n",
              "  border-bottom: 2px solid var(--sklearn-color-text-on-default-background);\n",
              "  flex-grow: 1;\n",
              "}\n",
              "\n",
              "#sk-container-id-1 div.sk-parallel {\n",
              "  display: flex;\n",
              "  align-items: stretch;\n",
              "  justify-content: center;\n",
              "  background-color: var(--sklearn-color-background);\n",
              "  position: relative;\n",
              "}\n",
              "\n",
              "#sk-container-id-1 div.sk-parallel-item {\n",
              "  display: flex;\n",
              "  flex-direction: column;\n",
              "}\n",
              "\n",
              "#sk-container-id-1 div.sk-parallel-item:first-child::after {\n",
              "  align-self: flex-end;\n",
              "  width: 50%;\n",
              "}\n",
              "\n",
              "#sk-container-id-1 div.sk-parallel-item:last-child::after {\n",
              "  align-self: flex-start;\n",
              "  width: 50%;\n",
              "}\n",
              "\n",
              "#sk-container-id-1 div.sk-parallel-item:only-child::after {\n",
              "  width: 0;\n",
              "}\n",
              "\n",
              "/* Serial-specific style estimator block */\n",
              "\n",
              "#sk-container-id-1 div.sk-serial {\n",
              "  display: flex;\n",
              "  flex-direction: column;\n",
              "  align-items: center;\n",
              "  background-color: var(--sklearn-color-background);\n",
              "  padding-right: 1em;\n",
              "  padding-left: 1em;\n",
              "}\n",
              "\n",
              "\n",
              "/* Toggleable style: style used for estimator/Pipeline/ColumnTransformer box that is\n",
              "clickable and can be expanded/collapsed.\n",
              "- Pipeline and ColumnTransformer use this feature and define the default style\n",
              "- Estimators will overwrite some part of the style using the `sk-estimator` class\n",
              "*/\n",
              "\n",
              "/* Pipeline and ColumnTransformer style (default) */\n",
              "\n",
              "#sk-container-id-1 div.sk-toggleable {\n",
              "  /* Default theme specific background. It is overwritten whether we have a\n",
              "  specific estimator or a Pipeline/ColumnTransformer */\n",
              "  background-color: var(--sklearn-color-background);\n",
              "}\n",
              "\n",
              "/* Toggleable label */\n",
              "#sk-container-id-1 label.sk-toggleable__label {\n",
              "  cursor: pointer;\n",
              "  display: flex;\n",
              "  width: 100%;\n",
              "  margin-bottom: 0;\n",
              "  padding: 0.5em;\n",
              "  box-sizing: border-box;\n",
              "  text-align: center;\n",
              "  align-items: start;\n",
              "  justify-content: space-between;\n",
              "  gap: 0.5em;\n",
              "}\n",
              "\n",
              "#sk-container-id-1 label.sk-toggleable__label .caption {\n",
              "  font-size: 0.6rem;\n",
              "  font-weight: lighter;\n",
              "  color: var(--sklearn-color-text-muted);\n",
              "}\n",
              "\n",
              "#sk-container-id-1 label.sk-toggleable__label-arrow:before {\n",
              "  /* Arrow on the left of the label */\n",
              "  content: \"▸\";\n",
              "  float: left;\n",
              "  margin-right: 0.25em;\n",
              "  color: var(--sklearn-color-icon);\n",
              "}\n",
              "\n",
              "#sk-container-id-1 label.sk-toggleable__label-arrow:hover:before {\n",
              "  color: var(--sklearn-color-text);\n",
              "}\n",
              "\n",
              "/* Toggleable content - dropdown */\n",
              "\n",
              "#sk-container-id-1 div.sk-toggleable__content {\n",
              "  max-height: 0;\n",
              "  max-width: 0;\n",
              "  overflow: hidden;\n",
              "  text-align: left;\n",
              "  /* unfitted */\n",
              "  background-color: var(--sklearn-color-unfitted-level-0);\n",
              "}\n",
              "\n",
              "#sk-container-id-1 div.sk-toggleable__content.fitted {\n",
              "  /* fitted */\n",
              "  background-color: var(--sklearn-color-fitted-level-0);\n",
              "}\n",
              "\n",
              "#sk-container-id-1 div.sk-toggleable__content pre {\n",
              "  margin: 0.2em;\n",
              "  border-radius: 0.25em;\n",
              "  color: var(--sklearn-color-text);\n",
              "  /* unfitted */\n",
              "  background-color: var(--sklearn-color-unfitted-level-0);\n",
              "}\n",
              "\n",
              "#sk-container-id-1 div.sk-toggleable__content.fitted pre {\n",
              "  /* unfitted */\n",
              "  background-color: var(--sklearn-color-fitted-level-0);\n",
              "}\n",
              "\n",
              "#sk-container-id-1 input.sk-toggleable__control:checked~div.sk-toggleable__content {\n",
              "  /* Expand drop-down */\n",
              "  max-height: 200px;\n",
              "  max-width: 100%;\n",
              "  overflow: auto;\n",
              "}\n",
              "\n",
              "#sk-container-id-1 input.sk-toggleable__control:checked~label.sk-toggleable__label-arrow:before {\n",
              "  content: \"▾\";\n",
              "}\n",
              "\n",
              "/* Pipeline/ColumnTransformer-specific style */\n",
              "\n",
              "#sk-container-id-1 div.sk-label input.sk-toggleable__control:checked~label.sk-toggleable__label {\n",
              "  color: var(--sklearn-color-text);\n",
              "  background-color: var(--sklearn-color-unfitted-level-2);\n",
              "}\n",
              "\n",
              "#sk-container-id-1 div.sk-label.fitted input.sk-toggleable__control:checked~label.sk-toggleable__label {\n",
              "  background-color: var(--sklearn-color-fitted-level-2);\n",
              "}\n",
              "\n",
              "/* Estimator-specific style */\n",
              "\n",
              "/* Colorize estimator box */\n",
              "#sk-container-id-1 div.sk-estimator input.sk-toggleable__control:checked~label.sk-toggleable__label {\n",
              "  /* unfitted */\n",
              "  background-color: var(--sklearn-color-unfitted-level-2);\n",
              "}\n",
              "\n",
              "#sk-container-id-1 div.sk-estimator.fitted input.sk-toggleable__control:checked~label.sk-toggleable__label {\n",
              "  /* fitted */\n",
              "  background-color: var(--sklearn-color-fitted-level-2);\n",
              "}\n",
              "\n",
              "#sk-container-id-1 div.sk-label label.sk-toggleable__label,\n",
              "#sk-container-id-1 div.sk-label label {\n",
              "  /* The background is the default theme color */\n",
              "  color: var(--sklearn-color-text-on-default-background);\n",
              "}\n",
              "\n",
              "/* On hover, darken the color of the background */\n",
              "#sk-container-id-1 div.sk-label:hover label.sk-toggleable__label {\n",
              "  color: var(--sklearn-color-text);\n",
              "  background-color: var(--sklearn-color-unfitted-level-2);\n",
              "}\n",
              "\n",
              "/* Label box, darken color on hover, fitted */\n",
              "#sk-container-id-1 div.sk-label.fitted:hover label.sk-toggleable__label.fitted {\n",
              "  color: var(--sklearn-color-text);\n",
              "  background-color: var(--sklearn-color-fitted-level-2);\n",
              "}\n",
              "\n",
              "/* Estimator label */\n",
              "\n",
              "#sk-container-id-1 div.sk-label label {\n",
              "  font-family: monospace;\n",
              "  font-weight: bold;\n",
              "  display: inline-block;\n",
              "  line-height: 1.2em;\n",
              "}\n",
              "\n",
              "#sk-container-id-1 div.sk-label-container {\n",
              "  text-align: center;\n",
              "}\n",
              "\n",
              "/* Estimator-specific */\n",
              "#sk-container-id-1 div.sk-estimator {\n",
              "  font-family: monospace;\n",
              "  border: 1px dotted var(--sklearn-color-border-box);\n",
              "  border-radius: 0.25em;\n",
              "  box-sizing: border-box;\n",
              "  margin-bottom: 0.5em;\n",
              "  /* unfitted */\n",
              "  background-color: var(--sklearn-color-unfitted-level-0);\n",
              "}\n",
              "\n",
              "#sk-container-id-1 div.sk-estimator.fitted {\n",
              "  /* fitted */\n",
              "  background-color: var(--sklearn-color-fitted-level-0);\n",
              "}\n",
              "\n",
              "/* on hover */\n",
              "#sk-container-id-1 div.sk-estimator:hover {\n",
              "  /* unfitted */\n",
              "  background-color: var(--sklearn-color-unfitted-level-2);\n",
              "}\n",
              "\n",
              "#sk-container-id-1 div.sk-estimator.fitted:hover {\n",
              "  /* fitted */\n",
              "  background-color: var(--sklearn-color-fitted-level-2);\n",
              "}\n",
              "\n",
              "/* Specification for estimator info (e.g. \"i\" and \"?\") */\n",
              "\n",
              "/* Common style for \"i\" and \"?\" */\n",
              "\n",
              ".sk-estimator-doc-link,\n",
              "a:link.sk-estimator-doc-link,\n",
              "a:visited.sk-estimator-doc-link {\n",
              "  float: right;\n",
              "  font-size: smaller;\n",
              "  line-height: 1em;\n",
              "  font-family: monospace;\n",
              "  background-color: var(--sklearn-color-background);\n",
              "  border-radius: 1em;\n",
              "  height: 1em;\n",
              "  width: 1em;\n",
              "  text-decoration: none !important;\n",
              "  margin-left: 0.5em;\n",
              "  text-align: center;\n",
              "  /* unfitted */\n",
              "  border: var(--sklearn-color-unfitted-level-1) 1pt solid;\n",
              "  color: var(--sklearn-color-unfitted-level-1);\n",
              "}\n",
              "\n",
              ".sk-estimator-doc-link.fitted,\n",
              "a:link.sk-estimator-doc-link.fitted,\n",
              "a:visited.sk-estimator-doc-link.fitted {\n",
              "  /* fitted */\n",
              "  border: var(--sklearn-color-fitted-level-1) 1pt solid;\n",
              "  color: var(--sklearn-color-fitted-level-1);\n",
              "}\n",
              "\n",
              "/* On hover */\n",
              "div.sk-estimator:hover .sk-estimator-doc-link:hover,\n",
              ".sk-estimator-doc-link:hover,\n",
              "div.sk-label-container:hover .sk-estimator-doc-link:hover,\n",
              ".sk-estimator-doc-link:hover {\n",
              "  /* unfitted */\n",
              "  background-color: var(--sklearn-color-unfitted-level-3);\n",
              "  color: var(--sklearn-color-background);\n",
              "  text-decoration: none;\n",
              "}\n",
              "\n",
              "div.sk-estimator.fitted:hover .sk-estimator-doc-link.fitted:hover,\n",
              ".sk-estimator-doc-link.fitted:hover,\n",
              "div.sk-label-container:hover .sk-estimator-doc-link.fitted:hover,\n",
              ".sk-estimator-doc-link.fitted:hover {\n",
              "  /* fitted */\n",
              "  background-color: var(--sklearn-color-fitted-level-3);\n",
              "  color: var(--sklearn-color-background);\n",
              "  text-decoration: none;\n",
              "}\n",
              "\n",
              "/* Span, style for the box shown on hovering the info icon */\n",
              ".sk-estimator-doc-link span {\n",
              "  display: none;\n",
              "  z-index: 9999;\n",
              "  position: relative;\n",
              "  font-weight: normal;\n",
              "  right: .2ex;\n",
              "  padding: .5ex;\n",
              "  margin: .5ex;\n",
              "  width: min-content;\n",
              "  min-width: 20ex;\n",
              "  max-width: 50ex;\n",
              "  color: var(--sklearn-color-text);\n",
              "  box-shadow: 2pt 2pt 4pt #999;\n",
              "  /* unfitted */\n",
              "  background: var(--sklearn-color-unfitted-level-0);\n",
              "  border: .5pt solid var(--sklearn-color-unfitted-level-3);\n",
              "}\n",
              "\n",
              ".sk-estimator-doc-link.fitted span {\n",
              "  /* fitted */\n",
              "  background: var(--sklearn-color-fitted-level-0);\n",
              "  border: var(--sklearn-color-fitted-level-3);\n",
              "}\n",
              "\n",
              ".sk-estimator-doc-link:hover span {\n",
              "  display: block;\n",
              "}\n",
              "\n",
              "/* \"?\"-specific style due to the `<a>` HTML tag */\n",
              "\n",
              "#sk-container-id-1 a.estimator_doc_link {\n",
              "  float: right;\n",
              "  font-size: 1rem;\n",
              "  line-height: 1em;\n",
              "  font-family: monospace;\n",
              "  background-color: var(--sklearn-color-background);\n",
              "  border-radius: 1rem;\n",
              "  height: 1rem;\n",
              "  width: 1rem;\n",
              "  text-decoration: none;\n",
              "  /* unfitted */\n",
              "  color: var(--sklearn-color-unfitted-level-1);\n",
              "  border: var(--sklearn-color-unfitted-level-1) 1pt solid;\n",
              "}\n",
              "\n",
              "#sk-container-id-1 a.estimator_doc_link.fitted {\n",
              "  /* fitted */\n",
              "  border: var(--sklearn-color-fitted-level-1) 1pt solid;\n",
              "  color: var(--sklearn-color-fitted-level-1);\n",
              "}\n",
              "\n",
              "/* On hover */\n",
              "#sk-container-id-1 a.estimator_doc_link:hover {\n",
              "  /* unfitted */\n",
              "  background-color: var(--sklearn-color-unfitted-level-3);\n",
              "  color: var(--sklearn-color-background);\n",
              "  text-decoration: none;\n",
              "}\n",
              "\n",
              "#sk-container-id-1 a.estimator_doc_link.fitted:hover {\n",
              "  /* fitted */\n",
              "  background-color: var(--sklearn-color-fitted-level-3);\n",
              "}\n",
              "</style><div id=\"sk-container-id-1\" class=\"sk-top-container\"><div class=\"sk-text-repr-fallback\"><pre>LogisticRegression()</pre><b>In a Jupyter environment, please rerun this cell to show the HTML representation or trust the notebook. <br />On GitHub, the HTML representation is unable to render, please try loading this page with nbviewer.org.</b></div><div class=\"sk-container\" hidden><div class=\"sk-item\"><div class=\"sk-estimator fitted sk-toggleable\"><input class=\"sk-toggleable__control sk-hidden--visually\" id=\"sk-estimator-id-1\" type=\"checkbox\" checked><label for=\"sk-estimator-id-1\" class=\"sk-toggleable__label fitted sk-toggleable__label-arrow\"><div><div>LogisticRegression</div></div><div><a class=\"sk-estimator-doc-link fitted\" rel=\"noreferrer\" target=\"_blank\" href=\"https://scikit-learn.org/1.6/modules/generated/sklearn.linear_model.LogisticRegression.html\">?<span>Documentation for LogisticRegression</span></a><span class=\"sk-estimator-doc-link fitted\">i<span>Fitted</span></span></div></label><div class=\"sk-toggleable__content fitted\"><pre>LogisticRegression()</pre></div> </div></div></div></div>"
            ]
          },
          "metadata": {},
          "execution_count": 38
        }
      ]
    },
    {
      "cell_type": "markdown",
      "source": [
        "Evaluation"
      ],
      "metadata": {
        "id": "Wa2Z5LaIGVOM"
      }
    },
    {
      "cell_type": "code",
      "source": [
        "# accuracy score on the training data\n",
        "X_train_prediction = model.predict(X_train)\n",
        "training_data_accuracy = accuracy_score(X_train_prediction, Y_train)"
      ],
      "metadata": {
        "id": "J7yZO26iGW2V"
      },
      "execution_count": 39,
      "outputs": []
    },
    {
      "cell_type": "code",
      "source": [
        "print('Accuracy score of the training data : ', training_data_accuracy)"
      ],
      "metadata": {
        "colab": {
          "base_uri": "https://localhost:8080/"
        },
        "id": "-nvxoVIdGZDl",
        "outputId": "6d09ea69-177d-4d2e-e233-651e6a81dd1d"
      },
      "execution_count": 40,
      "outputs": [
        {
          "output_type": "stream",
          "name": "stdout",
          "text": [
            "Accuracy score of the training data :  0.9930119086999669\n"
          ]
        }
      ]
    },
    {
      "cell_type": "code",
      "source": [
        "# accuracy score on the test data\n",
        "X_test_prediction = model.predict(X_test)\n",
        "test_data_accuracy = accuracy_score(X_test_prediction, Y_test)"
      ],
      "metadata": {
        "id": "Tb1TsnMXGbS-"
      },
      "execution_count": 41,
      "outputs": []
    },
    {
      "cell_type": "code",
      "source": [
        "print('Accuracy score of the test data : ', test_data_accuracy)"
      ],
      "metadata": {
        "colab": {
          "base_uri": "https://localhost:8080/"
        },
        "id": "fzZq6igjGdnd",
        "outputId": "2c6c301f-c209-4f56-f1ff-18d662b2bc3f"
      },
      "execution_count": 42,
      "outputs": [
        {
          "output_type": "stream",
          "name": "stdout",
          "text": [
            "Accuracy score of the test data :  0.9885874958650347\n"
          ]
        }
      ]
    },
    {
      "cell_type": "markdown",
      "source": [
        "Making a Predictive System"
      ],
      "metadata": {
        "id": "bD3gxNEYGhYK"
      }
    },
    {
      "cell_type": "code",
      "source": [
        "X_new = X_test[3]\n",
        "\n",
        "prediction = model.predict(X_new)\n",
        "print(prediction)\n",
        "\n",
        "if (prediction[0]==0):\n",
        "  print('The news is Real')\n",
        "else:\n",
        "  print('The news is Fake')"
      ],
      "metadata": {
        "colab": {
          "base_uri": "https://localhost:8080/"
        },
        "id": "U6iHIGJYGjKs",
        "outputId": "0421706c-099d-4f64-d89c-5421013667c5"
      },
      "execution_count": 43,
      "outputs": [
        {
          "output_type": "stream",
          "name": "stdout",
          "text": [
            "['1']\n",
            "The news is Fake\n"
          ]
        }
      ]
    }
  ]
}